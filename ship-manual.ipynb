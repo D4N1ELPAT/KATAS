{
 "cells": [
  {
   "cell_type": "code",
   "execution_count": null,
   "metadata": {},
   "outputs": [],
   "source": []
  },
  {
   "cell_type": "markdown",
   "metadata": {},
   "source": [
    "# Manual de la Nave"
   ]
  },
  {
   "cell_type": "code",
   "execution_count": 1,
   "metadata": {},
   "outputs": [
    {
     "name": "stdout",
     "output_type": "stream",
     "text": [
      "Requirement already satisfied: ipywidgets in c:\\users\\depredador\\appdata\\local\\programs\\python\\python39\\lib\\site-packages (7.6.5)Note: you may need to restart the kernel to use updated packages.\n",
      "Requirement already satisfied: ipython-genutils~=0.2.0 in c:\\users\\depredador\\appdata\\local\\programs\\python\\python39\\lib\\site-packages (from ipywidgets) (0.2.0)\n",
      "Requirement already satisfied: traitlets>=4.3.1 in c:\\users\\depredador\\appdata\\local\\programs\\python\\python39\\lib\\site-packages (from ipywidgets) (5.1.1)\n",
      "Requirement already satisfied: widgetsnbextension~=3.5.0 in c:\\users\\depredador\\appdata\\local\\programs\\python\\python39\\lib\\site-packages (from ipywidgets) (3.5.2)\n",
      "Requirement already satisfied: ipykernel>=4.5.1 in c:\\users\\depredador\\appdata\\local\\programs\\python\\python39\\lib\\site-packages (from ipywidgets) (6.8.0)\n",
      "Requirement already satisfied: nbformat>=4.2.0 in c:\\users\\depredador\\appdata\\local\\programs\\python\\python39\\lib\\site-packages (from ipywidgets) (5.1.3)\n",
      "\n",
      "Requirement already satisfied: ipython>=4.0.0; python_version >= \"3.3\" in c:\\users\\depredador\\appdata\\local\\programs\\python\\python39\\lib\\site-packages (from ipywidgets) (8.0.1)\n",
      "Requirement already satisfied: jupyterlab-widgets>=1.0.0; python_version >= \"3.6\" in c:\\users\\depredador\\appdata\\local\\programs\\python\\python39\\lib\\site-packages (from ipywidgets) (1.0.2)\n",
      "Requirement already satisfied: notebook>=4.4.1 in c:\\users\\depredador\\appdata\\local\\programs\\python\\python39\\lib\\site-packages (from widgetsnbextension~=3.5.0->ipywidgets) (6.4.8)\n"
     ]
    },
    {
     "name": "stderr",
     "output_type": "stream",
     "text": [
      "WARNING: You are using pip version 20.2.3; however, version 22.0.3 is available.\n",
      "You should consider upgrading via the 'C:\\Users\\DEPREDADOR\\AppData\\Local\\Programs\\Python\\Python39\\python.exe -m pip install --upgrade pip' command.\n"
     ]
    },
    {
     "name": "stdout",
     "output_type": "stream",
     "text": [
      "Requirement already satisfied: jupyter-client<8.0 in c:\\users\\depredador\\appdata\\local\\programs\\python\\python39\\lib\\site-packages (from ipykernel>=4.5.1->ipywidgets) (7.1.2)\n",
      "Requirement already satisfied: matplotlib-inline<0.2.0,>=0.1.0 in c:\\users\\depredador\\appdata\\local\\programs\\python\\python39\\lib\\site-packages (from ipykernel>=4.5.1->ipywidgets) (0.1.3)\n",
      "Requirement already satisfied: nest-asyncio in c:\\users\\depredador\\appdata\\local\\programs\\python\\python39\\lib\\site-packages (from ipykernel>=4.5.1->ipywidgets) (1.5.4)\n",
      "Requirement already satisfied: tornado<7.0,>=4.2 in c:\\users\\depredador\\appdata\\local\\programs\\python\\python39\\lib\\site-packages (from ipykernel>=4.5.1->ipywidgets) (6.1)\n",
      "Requirement already satisfied: debugpy<2.0,>=1.0.0 in c:\\users\\depredador\\appdata\\local\\programs\\python\\python39\\lib\\site-packages (from ipykernel>=4.5.1->ipywidgets) (1.5.1)\n",
      "Requirement already satisfied: jupyter-core in c:\\users\\depredador\\appdata\\local\\programs\\python\\python39\\lib\\site-packages (from nbformat>=4.2.0->ipywidgets) (4.9.1)\n",
      "Requirement already satisfied: jsonschema!=2.5.0,>=2.4 in c:\\users\\depredador\\appdata\\local\\programs\\python\\python39\\lib\\site-packages (from nbformat>=4.2.0->ipywidgets) (4.4.0)\n",
      "Requirement already satisfied: pickleshare in c:\\users\\depredador\\appdata\\local\\programs\\python\\python39\\lib\\site-packages (from ipython>=4.0.0; python_version >= \"3.3\"->ipywidgets) (0.7.5)\n",
      "Requirement already satisfied: pygments in c:\\users\\depredador\\appdata\\local\\programs\\python\\python39\\lib\\site-packages (from ipython>=4.0.0; python_version >= \"3.3\"->ipywidgets) (2.11.2)\n",
      "Requirement already satisfied: colorama; sys_platform == \"win32\" in c:\\users\\depredador\\appdata\\local\\programs\\python\\python39\\lib\\site-packages (from ipython>=4.0.0; python_version >= \"3.3\"->ipywidgets) (0.4.4)\n",
      "Requirement already satisfied: jedi>=0.16 in c:\\users\\depredador\\appdata\\local\\programs\\python\\python39\\lib\\site-packages (from ipython>=4.0.0; python_version >= \"3.3\"->ipywidgets) (0.18.1)\n",
      "Requirement already satisfied: stack-data in c:\\users\\depredador\\appdata\\local\\programs\\python\\python39\\lib\\site-packages (from ipython>=4.0.0; python_version >= \"3.3\"->ipywidgets) (0.1.4)\n",
      "Requirement already satisfied: decorator in c:\\users\\depredador\\appdata\\local\\programs\\python\\python39\\lib\\site-packages (from ipython>=4.0.0; python_version >= \"3.3\"->ipywidgets) (5.1.1)\n",
      "Requirement already satisfied: backcall in c:\\users\\depredador\\appdata\\local\\programs\\python\\python39\\lib\\site-packages (from ipython>=4.0.0; python_version >= \"3.3\"->ipywidgets) (0.2.0)\n",
      "Requirement already satisfied: setuptools>=18.5 in c:\\users\\depredador\\appdata\\local\\programs\\python\\python39\\lib\\site-packages (from ipython>=4.0.0; python_version >= \"3.3\"->ipywidgets) (49.2.1)\n",
      "Requirement already satisfied: prompt-toolkit!=3.0.0,!=3.0.1,<3.1.0,>=2.0.0 in c:\\users\\depredador\\appdata\\local\\programs\\python\\python39\\lib\\site-packages (from ipython>=4.0.0; python_version >= \"3.3\"->ipywidgets) (3.0.26)\n",
      "Requirement already satisfied: black in c:\\users\\depredador\\appdata\\local\\programs\\python\\python39\\lib\\site-packages (from ipython>=4.0.0; python_version >= \"3.3\"->ipywidgets) (22.1.0)\n",
      "Requirement already satisfied: Send2Trash>=1.8.0 in c:\\users\\depredador\\appdata\\local\\programs\\python\\python39\\lib\\site-packages (from notebook>=4.4.1->widgetsnbextension~=3.5.0->ipywidgets) (1.8.0)\n",
      "Requirement already satisfied: terminado>=0.8.3 in c:\\users\\depredador\\appdata\\local\\programs\\python\\python39\\lib\\site-packages (from notebook>=4.4.1->widgetsnbextension~=3.5.0->ipywidgets) (0.13.1)\n",
      "Requirement already satisfied: jinja2 in c:\\users\\depredador\\appdata\\local\\programs\\python\\python39\\lib\\site-packages (from notebook>=4.4.1->widgetsnbextension~=3.5.0->ipywidgets) (3.0.3)\n",
      "Requirement already satisfied: prometheus-client in c:\\users\\depredador\\appdata\\local\\programs\\python\\python39\\lib\\site-packages (from notebook>=4.4.1->widgetsnbextension~=3.5.0->ipywidgets) (0.13.1)\n",
      "Requirement already satisfied: argon2-cffi in c:\\users\\depredador\\appdata\\local\\programs\\python\\python39\\lib\\site-packages (from notebook>=4.4.1->widgetsnbextension~=3.5.0->ipywidgets) (21.3.0)\n",
      "Requirement already satisfied: pyzmq>=17 in c:\\users\\depredador\\appdata\\local\\programs\\python\\python39\\lib\\site-packages (from notebook>=4.4.1->widgetsnbextension~=3.5.0->ipywidgets) (22.3.0)\n",
      "Requirement already satisfied: nbconvert in c:\\users\\depredador\\appdata\\local\\programs\\python\\python39\\lib\\site-packages (from notebook>=4.4.1->widgetsnbextension~=3.5.0->ipywidgets) (6.4.1)\n",
      "Requirement already satisfied: entrypoints in c:\\users\\depredador\\appdata\\local\\programs\\python\\python39\\lib\\site-packages (from jupyter-client<8.0->ipykernel>=4.5.1->ipywidgets) (0.4)\n",
      "Requirement already satisfied: python-dateutil>=2.1 in c:\\users\\depredador\\appdata\\local\\programs\\python\\python39\\lib\\site-packages (from jupyter-client<8.0->ipykernel>=4.5.1->ipywidgets) (2.8.2)\n",
      "Requirement already satisfied: pywin32>=1.0; sys_platform == \"win32\" and platform_python_implementation != \"PyPy\" in c:\\users\\depredador\\appdata\\local\\programs\\python\\python39\\lib\\site-packages (from jupyter-core->nbformat>=4.2.0->ipywidgets) (303)\n",
      "Requirement already satisfied: pyrsistent!=0.17.0,!=0.17.1,!=0.17.2,>=0.14.0 in c:\\users\\depredador\\appdata\\local\\programs\\python\\python39\\lib\\site-packages (from jsonschema!=2.5.0,>=2.4->nbformat>=4.2.0->ipywidgets) (0.18.1)\n",
      "Requirement already satisfied: attrs>=17.4.0 in c:\\users\\depredador\\appdata\\local\\programs\\python\\python39\\lib\\site-packages (from jsonschema!=2.5.0,>=2.4->nbformat>=4.2.0->ipywidgets) (21.4.0)\n",
      "Requirement already satisfied: parso<0.9.0,>=0.8.0 in c:\\users\\depredador\\appdata\\local\\programs\\python\\python39\\lib\\site-packages (from jedi>=0.16->ipython>=4.0.0; python_version >= \"3.3\"->ipywidgets) (0.8.3)\n",
      "Requirement already satisfied: asttokens in c:\\users\\depredador\\appdata\\local\\programs\\python\\python39\\lib\\site-packages (from stack-data->ipython>=4.0.0; python_version >= \"3.3\"->ipywidgets) (2.0.5)\n",
      "Requirement already satisfied: executing in c:\\users\\depredador\\appdata\\local\\programs\\python\\python39\\lib\\site-packages (from stack-data->ipython>=4.0.0; python_version >= \"3.3\"->ipywidgets) (0.8.2)\n",
      "Requirement already satisfied: pure-eval in c:\\users\\depredador\\appdata\\local\\programs\\python\\python39\\lib\\site-packages (from stack-data->ipython>=4.0.0; python_version >= \"3.3\"->ipywidgets) (0.2.2)\n",
      "Requirement already satisfied: wcwidth in c:\\users\\depredador\\appdata\\local\\programs\\python\\python39\\lib\\site-packages (from prompt-toolkit!=3.0.0,!=3.0.1,<3.1.0,>=2.0.0->ipython>=4.0.0; python_version >= \"3.3\"->ipywidgets) (0.2.5)\n",
      "Requirement already satisfied: mypy-extensions>=0.4.3 in c:\\users\\depredador\\appdata\\local\\programs\\python\\python39\\lib\\site-packages (from black->ipython>=4.0.0; python_version >= \"3.3\"->ipywidgets) (0.4.3)\n",
      "Requirement already satisfied: pathspec>=0.9.0 in c:\\users\\depredador\\appdata\\local\\programs\\python\\python39\\lib\\site-packages (from black->ipython>=4.0.0; python_version >= \"3.3\"->ipywidgets) (0.9.0)\n",
      "Requirement already satisfied: tomli>=1.1.0 in c:\\users\\depredador\\appdata\\local\\programs\\python\\python39\\lib\\site-packages (from black->ipython>=4.0.0; python_version >= \"3.3\"->ipywidgets) (2.0.0)\n",
      "Requirement already satisfied: typing-extensions>=3.10.0.0; python_version < \"3.10\" in c:\\users\\depredador\\appdata\\local\\programs\\python\\python39\\lib\\site-packages (from black->ipython>=4.0.0; python_version >= \"3.3\"->ipywidgets) (4.0.1)\n",
      "Requirement already satisfied: platformdirs>=2 in c:\\users\\depredador\\appdata\\local\\programs\\python\\python39\\lib\\site-packages (from black->ipython>=4.0.0; python_version >= \"3.3\"->ipywidgets) (2.4.1)\n",
      "Requirement already satisfied: click>=8.0.0 in c:\\users\\depredador\\appdata\\local\\programs\\python\\python39\\lib\\site-packages (from black->ipython>=4.0.0; python_version >= \"3.3\"->ipywidgets) (8.0.3)\n",
      "Requirement already satisfied: pywinpty>=1.1.0; os_name == \"nt\" in c:\\users\\depredador\\appdata\\local\\programs\\python\\python39\\lib\\site-packages (from terminado>=0.8.3->notebook>=4.4.1->widgetsnbextension~=3.5.0->ipywidgets) (2.0.2)\n",
      "Requirement already satisfied: MarkupSafe>=2.0 in c:\\users\\depredador\\appdata\\local\\programs\\python\\python39\\lib\\site-packages (from jinja2->notebook>=4.4.1->widgetsnbextension~=3.5.0->ipywidgets) (2.0.1)\n",
      "Requirement already satisfied: argon2-cffi-bindings in c:\\users\\depredador\\appdata\\local\\programs\\python\\python39\\lib\\site-packages (from argon2-cffi->notebook>=4.4.1->widgetsnbextension~=3.5.0->ipywidgets) (21.2.0)\n",
      "Requirement already satisfied: bleach in c:\\users\\depredador\\appdata\\local\\programs\\python\\python39\\lib\\site-packages (from nbconvert->notebook>=4.4.1->widgetsnbextension~=3.5.0->ipywidgets) (4.1.0)\n",
      "Requirement already satisfied: testpath in c:\\users\\depredador\\appdata\\local\\programs\\python\\python39\\lib\\site-packages (from nbconvert->notebook>=4.4.1->widgetsnbextension~=3.5.0->ipywidgets) (0.5.0)\n",
      "Requirement already satisfied: defusedxml in c:\\users\\depredador\\appdata\\local\\programs\\python\\python39\\lib\\site-packages (from nbconvert->notebook>=4.4.1->widgetsnbextension~=3.5.0->ipywidgets) (0.7.1)\n",
      "Requirement already satisfied: mistune<2,>=0.8.1 in c:\\users\\depredador\\appdata\\local\\programs\\python\\python39\\lib\\site-packages (from nbconvert->notebook>=4.4.1->widgetsnbextension~=3.5.0->ipywidgets) (0.8.4)\n",
      "Requirement already satisfied: jupyterlab-pygments in c:\\users\\depredador\\appdata\\local\\programs\\python\\python39\\lib\\site-packages (from nbconvert->notebook>=4.4.1->widgetsnbextension~=3.5.0->ipywidgets) (0.1.2)\n",
      "Requirement already satisfied: nbclient<0.6.0,>=0.5.0 in c:\\users\\depredador\\appdata\\local\\programs\\python\\python39\\lib\\site-packages (from nbconvert->notebook>=4.4.1->widgetsnbextension~=3.5.0->ipywidgets) (0.5.10)\n",
      "Requirement already satisfied: pandocfilters>=1.4.1 in c:\\users\\depredador\\appdata\\local\\programs\\python\\python39\\lib\\site-packages (from nbconvert->notebook>=4.4.1->widgetsnbextension~=3.5.0->ipywidgets) (1.5.0)\n",
      "Requirement already satisfied: six>=1.5 in c:\\users\\depredador\\appdata\\local\\programs\\python\\python39\\lib\\site-packages (from python-dateutil>=2.1->jupyter-client<8.0->ipykernel>=4.5.1->ipywidgets) (1.16.0)\n",
      "Requirement already satisfied: cffi>=1.0.1 in c:\\users\\depredador\\appdata\\local\\programs\\python\\python39\\lib\\site-packages (from argon2-cffi-bindings->argon2-cffi->notebook>=4.4.1->widgetsnbextension~=3.5.0->ipywidgets) (1.15.0)\n",
      "Requirement already satisfied: webencodings in c:\\users\\depredador\\appdata\\local\\programs\\python\\python39\\lib\\site-packages (from bleach->nbconvert->notebook>=4.4.1->widgetsnbextension~=3.5.0->ipywidgets) (0.5.1)\n",
      "Requirement already satisfied: packaging in c:\\users\\depredador\\appdata\\local\\programs\\python\\python39\\lib\\site-packages (from bleach->nbconvert->notebook>=4.4.1->widgetsnbextension~=3.5.0->ipywidgets) (21.3)\n",
      "Requirement already satisfied: pycparser in c:\\users\\depredador\\appdata\\local\\programs\\python\\python39\\lib\\site-packages (from cffi>=1.0.1->argon2-cffi-bindings->argon2-cffi->notebook>=4.4.1->widgetsnbextension~=3.5.0->ipywidgets) (2.21)\n",
      "Requirement already satisfied: pyparsing!=3.0.5,>=2.0.2 in c:\\users\\depredador\\appdata\\local\\programs\\python\\python39\\lib\\site-packages (from packaging->bleach->nbconvert->notebook>=4.4.1->widgetsnbextension~=3.5.0->ipywidgets) (3.0.7)\n"
     ]
    }
   ],
   "source": [
    "pip install ipywidgets"
   ]
  },
  {
   "cell_type": "code",
   "execution_count": 1,
   "metadata": {},
   "outputs": [
    {
     "data": {
      "application/vnd.jupyter.widget-view+json": {
       "model_id": "b6b3222ea420435c9ae2dad6fb81d4c9",
       "version_major": 2,
       "version_minor": 0
      },
      "text/plain": [
       "ToggleButton(value=False, button_style='success', description='Iniciar Launch', icon='rocket', tooltip='Engage…"
      ]
     },
     "metadata": {},
     "output_type": "display_data"
    },
    {
     "data": {
      "application/vnd.jupyter.widget-view+json": {
       "model_id": "10faa88f0c6c46908a92d50d0c4ff431",
       "version_major": 2,
       "version_minor": 0
      },
      "text/plain": [
       "Output()"
      ]
     },
     "metadata": {},
     "output_type": "display_data"
    }
   ],
   "source": [
    "import ipywidgets as widgets\n",
    "\n",
    "ignition = widgets.ToggleButton(\n",
    "    value=False,\n",
    "    description='Iniciar Launch',\n",
    "    button_style='success',\n",
    "    tooltip='Engage your Launch',\n",
    "    icon='rocket'\n",
    ")\n",
    "\n",
    "output = widgets.Output()\n",
    "\n",
    "display(ignition, output)\n",
    "\n",
    "def on_value_change(change):\n",
    "    with output:\n",
    "        if change['new'] == True:\n",
    "            print(\"Nave Iniciada!\")\n",
    "        else:   \n",
    "            print(\"Nave Detenida\")\n",
    "\n",
    "ignition.observe(on_value_change, names='value')"
   ]
  },
  {
   "cell_type": "code",
   "execution_count": 7,
   "metadata": {},
   "outputs": [
    {
     "name": "stdout",
     "output_type": "stream",
     "text": [
      "Collecting matplotlib\n",
      "  Downloading matplotlib-3.5.1-cp39-cp39-win_amd64.whl (7.2 MB)\n",
      "Collecting pillow>=6.2.0\n",
      "  Downloading Pillow-9.0.1-cp39-cp39-win_amd64.whl (3.2 MB)\n",
      "Collecting numpy>=1.17\n",
      "  Downloading numpy-1.22.2-cp39-cp39-win_amd64.whl (14.7 MB)\n",
      "Collecting cycler>=0.10\n",
      "  Using cached cycler-0.11.0-py3-none-any.whl (6.4 kB)\n",
      "Collecting fonttools>=4.22.0\n",
      "  Using cached fonttools-4.29.1-py3-none-any.whl (895 kB)\n",
      "Requirement already satisfied: pyparsing>=2.2.1 in c:\\users\\depredador\\appdata\\local\\programs\\python\\python39\\lib\\site-packages (from matplotlib) (3.0.7)\n",
      "Collecting kiwisolver>=1.0.1\n",
      "  Downloading kiwisolver-1.3.2-cp39-cp39-win_amd64.whl (52 kB)\n",
      "Requirement already satisfied: packaging>=20.0 in c:\\users\\depredador\\appdata\\local\\programs\\python\\python39\\lib\\site-packages (from matplotlib) (21.3)\n",
      "Requirement already satisfied: python-dateutil>=2.7 in c:\\users\\depredador\\appdata\\local\\programs\\python\\python39\\lib\\site-packages (from matplotlib) (2.8.2)\n",
      "Requirement already satisfied: six>=1.5 in c:\\users\\depredador\\appdata\\local\\programs\\python\\python39\\lib\\site-packages (from python-dateutil>=2.7->matplotlib) (1.16.0)\n",
      "Installing collected packages: pillow, numpy, cycler, fonttools, kiwisolver, matplotlib\n",
      "Successfully installed cycler-0.11.0 fonttools-4.29.1 kiwisolver-1.3.2 matplotlib-3.5.1 numpy-1.22.2 pillow-9.0.1\n",
      "Note: you may need to restart the kernel to use updated packages.\n"
     ]
    },
    {
     "name": "stderr",
     "output_type": "stream",
     "text": [
      "WARNING: You are using pip version 20.2.3; however, version 22.0.3 is available.\n",
      "You should consider upgrading via the 'C:\\Users\\DEPREDADOR\\AppData\\Local\\Programs\\Python\\Python39\\python.exe -m pip install --upgrade pip' command.\n"
     ]
    }
   ],
   "source": [
    "pip install matplotlib"
   ]
  },
  {
   "cell_type": "code",
   "execution_count": 8,
   "metadata": {},
   "outputs": [
    {
     "name": "stdout",
     "output_type": "stream",
     "text": [
      "Requirement already satisfied: numpy in c:\\users\\depredador\\appdata\\local\\programs\\python\\python39\\lib\\site-packages (1.22.2)\n",
      "Note: you may need to restart the kernel to use updated packages.\n"
     ]
    },
    {
     "name": "stderr",
     "output_type": "stream",
     "text": [
      "WARNING: You are using pip version 20.2.3; however, version 22.0.3 is available.\n",
      "You should consider upgrading via the 'C:\\Users\\DEPREDADOR\\AppData\\Local\\Programs\\Python\\Python39\\python.exe -m pip install --upgrade pip' command.\n"
     ]
    }
   ],
   "source": [
    "pip install numpy"
   ]
  },
  {
   "cell_type": "markdown",
   "metadata": {},
   "source": [
    "## Niveles de Oxígeno\n",
    "\n",
    "Muestra diez minutos de niveles de oxígeno en tu nave."
   ]
  },
  {
   "cell_type": "code",
   "execution_count": 2,
   "metadata": {},
   "outputs": [
    {
     "data": {
      "image/png": "[encoded data removed]",
      "text/plain": [
       "<Figure size 432x288 with 1 Axes>"
      ]
     },
     "metadata": {
      "needs_background": "light"
     },
     "output_type": "display_data"
    }
   ],
   "source": [
    "import numpy as np\n",
    "import matplotlib.pyplot as plt\n",
    "data = np.random.default_rng(12345)\n",
    "oxy_nums = data.integers(low=0, high=10, size=10)\n",
    "plt.bar(range(len(oxy_nums)), oxy_nums)\n",
    "plt.show()"
   ]
  },
  {
   "cell_type": "markdown",
   "metadata": {},
   "source": [
    "## Velocidad de la nave\n",
    "Muestra los segundos necesarios para pasar de 0 a 11200 metros por segundo, dada la aceleración de la nave en metros por segundo."
   ]
  },
  {
   "cell_type": "code",
   "execution_count": 3,
   "metadata": {},
   "outputs": [
    {
     "name": "stdout",
     "output_type": "stream",
     "text": [
      "Tiempo para alcanzar la velocidad deseada =  1142.8571428571427\n"
     ]
    }
   ],
   "source": [
    "endVelocity = 11200\n",
    "startVelocity = 0\n",
    "acceleration = 9.8\n",
    "time = (endVelocity - startVelocity) / acceleration\n",
    "print(\"Tiempo para alcanzar la velocidad deseada = \", time)"
   ]
  },
  {
   "cell_type": "code",
   "execution_count": 20,
   "metadata": {},
   "outputs": [
    {
     "name": "stdout",
     "output_type": "stream",
     "text": [
      "6\n"
     ]
    }
   ],
   "source": [
    "sum = 1 + 2 # 3\n",
    "product = sum * 2\n",
    "print(product)"
   ]
  },
  {
   "cell_type": "markdown",
   "metadata": {},
   "source": [
    "## INICIO MODULO 1\n",
    "empezaremos con el modulo 1 DOCUMENTACION"
   ]
  },
  {
   "cell_type": "code",
   "execution_count": 25,
   "metadata": {},
   "outputs": [
    {
     "name": "stdout",
     "output_type": "stream",
     "text": [
      "Today's date is: 2022-02-06\n"
     ]
    }
   ],
   "source": [
    "# Importamos la biblioteca \n",
    "from datetime import date\n",
    "\n",
    "# Obtenemos la fecha de hoy\n",
    "date.today()\n",
    "\n",
    "# Mostramos la fecha en la consola\n",
    "print(\"Today's date is: \" + str(date.today()))"
   ]
  },
  {
   "cell_type": "code",
   "execution_count": 4,
   "metadata": {},
   "outputs": [
    {
     "name": "stdout",
     "output_type": "stream",
     "text": [
      "Bienvenido al programa de bienvenida\n",
      "Saludos: DANIEL\n"
     ]
    }
   ],
   "source": [
    "print(\"Bienvenido al programa de bienvenida\")\n",
    "name = input(\"Introduzca su nombre \")\n",
    "print(\"Saludos: \" + name)"
   ]
  },
  {
   "cell_type": "code",
   "execution_count": 5,
   "metadata": {},
   "outputs": [
    {
     "name": "stdout",
     "output_type": "stream",
     "text": [
      "Calculadora\n",
      "5\n"
     ]
    }
   ],
   "source": [
    "print(\"Calculadora\")\n",
    "first_number = input(\"Primer número: \")\n",
    "second_number = input(\"Segundo número: \")\n",
    "print(int(first_number) + int(second_number))"
   ]
  },
  {
   "cell_type": "markdown",
   "metadata": {},
   "source": [
    "## Construir un convertidor de unidades\n",
    "PARSEC A AÑOS LUZ"
   ]
  },
  {
   "cell_type": "code",
   "execution_count": 125,
   "metadata": {},
   "outputs": [
    {
     "name": "stdout",
     "output_type": "stream",
     "text": [
      "Cuantos parsec deseas convertir?\n",
      "parsec: 10\n",
      "Años luz: 32.6156\n"
     ]
    }
   ],
   "source": [
    "print(\"Cuantos parsec deseas convertir?\")\n",
    "parsec = input(\"parsec: \")\n",
    "añosluz = 3.26156 * int(parsec)\n",
    "print( \"parsec: \" + parsec)\n",
    "print( \"Años luz: \" + str(añosluz))"
   ]
  },
  {
   "cell_type": "markdown",
   "metadata": {},
   "source": [
    "## INICIO MODULO 2\n",
    "todo el modulo 2 se raliso en simbolo del sistema\n",
    "se aprendio a crear entornos virtuales e instalarle paquetes \n",
    "fue grandioso ya que no conocia esa parte."
   ]
  },
  {
   "cell_type": "markdown",
   "metadata": {},
   "source": [
    "## INICIO MODULO 3\n",
    "\n",
    "Para este ejercicio, escribirás una lógica condicional que imprima una advertencia si un asteroide se acerca a la Tierra demasiado rápido. La velocidad del asteroide varía dependiendo de lo cerca que esté del sol, y cualquier velocidad superior a 25 kilómetros por segundo (km/s) merece una advertencia.\n",
    "\n",
    "Un asteroide se acerca, y viaja a una velocidad de 49 km/s."
   ]
  },
  {
   "cell_type": "code",
   "execution_count": 20,
   "metadata": {},
   "outputs": [
    {
     "name": "stdout",
     "output_type": "stream",
     "text": [
      "Que velocidad trae el asteroide km/s\n",
      "velocidad del asteroide: 49 km/s\n",
      "¡Advertencia  un asteroide se acerca a la Tierra demasiado rápido.!\n"
     ]
    }
   ],
   "source": [
    "print(\"Que velocidad trae el asteroide km/s\")\n",
    "astvel = input(\"velocidad: \")\n",
    "print( \"velocidad del asteroide: \" + astvel + \" km/s\")\n",
    "if int(astvel) > 25:   \n",
    "     print( \"¡Advertencia  un asteroide se acerca a la Tierra demasiado rápido.!\")\n",
    "else:\n",
    "      print( \"El asterioide va a una velocidad segura \")"
   ]
  },
  {
   "cell_type": "markdown",
   "metadata": {},
   "source": [
    "Si un asteroide entra en la atmósfera de la Tierra a una velocidad mayor o igual a 20 km/s, a veces produce un rayo de luz que se puede ver desde la Tierra. Escribe la lógica condicional que usa declaraciones if, else, y elif para alertar a las personas de todo el mundo que deben buscar un asteroide en el cielo. ¡Hay uno que se dirige a la tierra ahora a una velocidad de 19 km/s!"
   ]
  },
  {
   "cell_type": "code",
   "execution_count": 25,
   "metadata": {},
   "outputs": [
    {
     "name": "stdout",
     "output_type": "stream",
     "text": [
      "Que velocidad trae el asteroide km/s\n",
      "velocidad del asteroide: 19 km/s\n",
      " hoy no se veran luces\n"
     ]
    }
   ],
   "source": [
    "print(\"Que velocidad trae el asteroide km/s\")\n",
    "astvel = input(\"velocidad: \")\n",
    "print( \"velocidad del asteroide: \" + astvel + \" km/s\")\n",
    "if int(astvel) > 20: \n",
    "     print( \" ¡ATENTOS busquen una luz de asteroide en el cielo!.\")\n",
    "elif  int(astvel) == 20:\n",
    "       print( \" ¡ATENTOS busquen un asteroide en el cielo!.\")\n",
    "else:\n",
    "    print( \" hoy no se veran luces\")\n",
    "    "
   ]
  },
  {
   "cell_type": "markdown",
   "metadata": {},
   "source": [
    "En este ejercicio, aprenderás información más matizada sobre cuándo los asteroides representan un peligro para la Tierra, y utilizarás esa información para mejorar nuestro sistema de advertencia. Aquí está la nueva información que necesitas saber:\n",
    "\n",
    "*Los asteroides de menos de 25 metros en su dimensión más grande probablemente se quemarán a medida que entren en la atmósfera de la Tierra.\n",
    "\n",
    "Si una pieza de un asteroide que es más grande que 25 metros pero más pequeña que 1000 metros golpeara la Tierra, causaría mucho daño.\n",
    "También discutimos en el ejercicio anterior que:\n",
    "\n",
    "La velocidad del asteroide varía en función de lo cerca que esté del sol, y cualquier velocidad superior a 25 kilómetros por segundo (km/s) merece una advertencia.\n",
    "Si un asteroide entra en la atmósfera de la Tierra a una velocidad mayor o igual a 20 km/s, a veces produce un rayo de luz que se puede ver desde la Tierra."
   ]
  },
  {
   "cell_type": "code",
   "execution_count": 8,
   "metadata": {},
   "outputs": [
    {
     "name": "stdout",
     "output_type": "stream",
     "text": [
      "Que velocidad trae el asteroide km/s\n",
      "velocidad del asteroide: 25 km/s\n",
      "Que tamaño tiene el asteroide mts\n",
      "Tamaño del asteroide: 40 mts\n",
      "¡Advertencia  un asteroide peligroso se acerca a la Tierra!\n"
     ]
    }
   ],
   "source": [
    "print(\"Que velocidad trae el asteroide km/s\")\n",
    "astvel = input(\"velocidad: \")\n",
    "print( \"velocidad del asteroide: \" + astvel + \" km/s\")\n",
    "print(\"Que tamaño tiene el asteroide mts\")\n",
    "astam = input(\"Tamaño: \")\n",
    "print( \"Tamaño del asteroide: \" + astam + \" mts\")\n",
    "if int(astvel) > 25 or int(astam) > 25:\n",
    "      print( \"¡Advertencia  un asteroide peligroso se acerca a la Tierra!\")\n",
    "elif  int(astvel) >= 20 and int(astam) <= 25:\n",
    "       print( \" ¡ATENTOS busquen una luz en el cielo!.\")\n",
    "else:\n",
    "      print( \" hoy no se veran luces\")"
   ]
  },
  {
   "cell_type": "markdown",
   "metadata": {},
   "source": [
    "## INICIO MODULO 4\n",
    "ejercicios practicando documientacion"
   ]
  },
  {
   "cell_type": "code",
   "execution_count": 2,
   "metadata": {},
   "outputs": [
    {
     "data": {
      "text/plain": [
       "'The Moon has no atmosphere. No sound can be heard on the Moon.'"
      ]
     },
     "execution_count": 2,
     "metadata": {},
     "output_type": "execute_result"
    }
   ],
   "source": [
    "fact = 'The Moon has no atmosphere.'\n",
    "fact + ' No sound can be heard on the Moon.'"
   ]
  },
  {
   "cell_type": "code",
   "execution_count": 3,
   "metadata": {},
   "outputs": [
    {
     "data": {
      "text/plain": [
       "'The Moon has no atmosphere.'"
      ]
     },
     "execution_count": 3,
     "metadata": {},
     "output_type": "execute_result"
    }
   ],
   "source": [
    "fact"
   ]
  },
  {
   "cell_type": "code",
   "execution_count": 5,
   "metadata": {},
   "outputs": [
    {
     "data": {
      "text/plain": [
       "'The \"near side\" is the part of the Moon that faces the Earth'"
      ]
     },
     "execution_count": 5,
     "metadata": {},
     "output_type": "execute_result"
    }
   ],
   "source": [
    "fact = 'The \"near side\" is the part of the Moon that faces the Earth'\n",
    "fact"
   ]
  },
  {
   "cell_type": "code",
   "execution_count": 11,
   "metadata": {},
   "outputs": [
    {
     "data": {
      "text/plain": [
       "\"We only see about 60% of the Moon's surface\""
      ]
     },
     "execution_count": 11,
     "metadata": {},
     "output_type": "execute_result"
    }
   ],
   "source": [
    "fact = \"We only see about 60% of the Moon's surface\"\n",
    "fact"
   ]
  },
  {
   "cell_type": "code",
   "execution_count": 14,
   "metadata": {},
   "outputs": [
    {
     "data": {
      "text/plain": [
       "'We only see about 60% of the Moon\\'s surface, this is known as the \"near side\".'"
      ]
     },
     "execution_count": 14,
     "metadata": {},
     "output_type": "execute_result"
    }
   ],
   "source": [
    "fact = \"\"\"We only see about 60% of the Moon's surface, this is known as the \"near side\".\"\"\"\n",
    "fact"
   ]
  },
  {
   "cell_type": "code",
   "execution_count": 16,
   "metadata": {},
   "outputs": [
    {
     "name": "stdout",
     "output_type": "stream",
     "text": [
      "Facts about the Moon:\n",
      " There is no atmosphere.\n",
      " There is no sound.\n"
     ]
    }
   ],
   "source": [
    "multiline = \"Facts about the Moon:\\n There is no atmosphere.\\n There is no sound.\"\n",
    "print(multiline)"
   ]
  },
  {
   "cell_type": "code",
   "execution_count": 26,
   "metadata": {},
   "outputs": [
    {
     "name": "stdout",
     "output_type": "stream",
     "text": [
      "Facts about the Moon:  \n",
      " There is no atmosphere.\n",
      " There is no sound.\n"
     ]
    }
   ],
   "source": [
    "multiline = \"\"\"Facts about the Moon:  \n",
    " There is no atmosphere.\n",
    " There is no sound.\"\"\"\n",
    "print(multiline)"
   ]
  },
  {
   "cell_type": "code",
   "execution_count": 28,
   "metadata": {},
   "outputs": [
    {
     "data": {
      "text/plain": [
       "'Temperatures And Facts About The Moon'"
      ]
     },
     "execution_count": 28,
     "metadata": {},
     "output_type": "execute_result"
    }
   ],
   "source": [
    "'temperatures and facts about the moon'.title()"
   ]
  },
  {
   "cell_type": "code",
   "execution_count": 35,
   "metadata": {},
   "outputs": [
    {
     "data": {
      "text/plain": [
       "['Daylight:', '260', 'F', 'Nighttime:', '-280', 'F']"
      ]
     },
     "execution_count": 35,
     "metadata": {},
     "output_type": "execute_result"
    }
   ],
   "source": [
    "temperatures = '''Daylight: 260 F Nighttime: -280 F'''\n",
    "temperatures .split()"
   ]
  },
  {
   "cell_type": "code",
   "execution_count": 36,
   "metadata": {},
   "outputs": [
    {
     "data": {
      "text/plain": [
       "True"
      ]
     },
     "execution_count": 36,
     "metadata": {},
     "output_type": "execute_result"
    }
   ],
   "source": [
    "'Moon' in 'This text will describe facts about the Moon'"
   ]
  },
  {
   "cell_type": "markdown",
   "metadata": {},
   "source": [
    "kata 4 ejercicio 1"
   ]
  },
  {
   "cell_type": "code",
   "execution_count": 14,
   "metadata": {},
   "outputs": [
    {
     "data": {
      "text/plain": [
       "['Interesting facts about the Moon',\n",
       " \" The Moon is Earth's only satellite\",\n",
       " ' There are several interesting facts about the Moon and how it affects life here on Earth',\n",
       " ' \\nOn average, the Moon moves 4cm away from the Earth every year',\n",
       " ' This yearly drift is not significant enough to cause immediate effects on Earth',\n",
       " ' The hig']"
      ]
     },
     "execution_count": 14,
     "metadata": {},
     "output_type": "execute_result"
    }
   ],
   "source": [
    "text = \"\"\"Interesting facts about the Moon. The Moon is Earth's only satellite. There are several interesting facts about the Moon and how it affects life here on Earth. \n",
    "On average, the Moon moves 4cm away from the Earth every year. This yearly drift is not significant enough to cause immediate effects on Earth. The hig\"\"\"\n",
    "\n",
    "text = text.split('.')\n",
    "text"
   ]
  },
  {
   "cell_type": "code",
   "execution_count": 12,
   "metadata": {},
   "outputs": [],
   "source": [
    "txt_clave = [\"average\", \"temperature\", \"distance\"]"
   ]
  },
  {
   "cell_type": "code",
   "execution_count": 13,
   "metadata": {},
   "outputs": [
    {
     "name": "stdout",
     "output_type": "stream",
     "text": [
      " \n",
      "On average, the Moon moves 4cm away from the Earth every year\n"
     ]
    }
   ],
   "source": [
    "for a in text:\n",
    "    for b in txt_clave:\n",
    "        if b in a:\n",
    "            print(a)\n",
    "            break"
   ]
  },
  {
   "cell_type": "code",
   "execution_count": 17,
   "metadata": {},
   "outputs": [
    {
     "name": "stdout",
     "output_type": "stream",
     "text": [
      " \n",
      "On average, the Moon moves 4 Celsiusm away from the Earth every year\n"
     ]
    }
   ],
   "source": [
    "for a in text:\n",
    "    for b in txt_clave:\n",
    "        if b in a:\n",
    "            print(a.replace('c', ' Celsius'))\n",
    "            break"
   ]
  },
  {
   "cell_type": "markdown",
   "metadata": {},
   "source": [
    "kata 4 ejercicio 2"
   ]
  },
  {
   "cell_type": "code",
   "execution_count": 111,
   "metadata": {},
   "outputs": [],
   "source": [
    "# Datos con los que vas a trabajar\n",
    "name = \"Moon\"\n",
    "gravity = 0.00162 # in kms\n",
    "planet = \"Earth\""
   ]
  },
  {
   "cell_type": "code",
   "execution_count": 112,
   "metadata": {},
   "outputs": [
    {
     "name": "stdout",
     "output_type": "stream",
     "text": [
      "Gravity Facts About Moon \n",
      " -------------------------------------------------------------------------------- \n",
      " Planet Name: Earth \n",
      " Gravity on Moon: 1.62 m/s2 \n"
     ]
    }
   ],
   "source": [
    "gravity = round(gravity * 1000, 2)\n",
    "title = f'Gravity Facts about {name}'\n",
    "hechos = f\"\"\"{'-'*80} \\n Planet Name: {planet} \\n Gravity on {name}: { gravity} m/s2 \"\"\"\n",
    "template = f\"\"\"{title.title()} \\n {hechos}\"\"\" \n",
    "print(template) "
   ]
  },
  {
   "cell_type": "code",
   "execution_count": 113,
   "metadata": {},
   "outputs": [],
   "source": [
    "name = 'Marte '\n",
    "gravity  = 0.00143\n",
    "planet = 'Ganímedes'"
   ]
  },
  {
   "cell_type": "code",
   "execution_count": 114,
   "metadata": {},
   "outputs": [
    {
     "name": "stdout",
     "output_type": "stream",
     "text": [
      "Gravity Facts About Moon \n",
      " -------------------------------------------------------------------------------- \n",
      " Planet Name: Earth \n",
      " Gravity on Moon: 1.62 m/s2 \n"
     ]
    }
   ],
   "source": [
    "\n",
    "print(template) "
   ]
  },
  {
   "cell_type": "code",
   "execution_count": 115,
   "metadata": {},
   "outputs": [
    {
     "name": "stdout",
     "output_type": "stream",
     "text": [
      "\n",
      "Datos de Gravedad sobre: Marte \n",
      "-------------------------------------------------------------------------------\n",
      "Nombre del planeta: Ganímedes\n",
      "Gravedad en Marte : 1.43 m/s2\n",
      "\n"
     ]
    }
   ],
   "source": [
    "gravity = round(gravity * 1000, 2)\n",
    "new_template = \"\"\"\n",
    "Datos de Gravedad sobre: {name}\n",
    "-------------------------------------------------------------------------------\n",
    "Nombre del planeta: {planet}\n",
    "Gravedad en {name}: {gravity} m/s2\n",
    "\"\"\"\n",
    "print(new_template.format(name=name, planet=planet, gravity=gravity))"
   ]
  },
  {
   "cell_type": "markdown",
   "metadata": {},
   "source": [
    "## INICIO MODULO 5"
   ]
  },
  {
   "cell_type": "code",
   "execution_count": 143,
   "metadata": {},
   "outputs": [
    {
     "name": "stdout",
     "output_type": "stream",
     "text": [
      "DISTANCIA EN KILOMETROS:628949330\n",
      "DISTANCIA EN MILLAS:    390577534\n"
     ]
    }
   ],
   "source": [
    "Tierra  = 149597870\n",
    "Júpiter = 778547200\n",
    "\n",
    "KM = Júpiter - Tierra \n",
    "\n",
    "print (\"DISTANCIA EN KILOMETROS:\" + str(KM) )\n",
    "millas= KM * 0.621\n",
    "print (\"DISTANCIA EN MILLAS:    \" + str(round(millas)) )\n"
   ]
  },
  {
   "cell_type": "markdown",
   "metadata": {},
   "source": [
    "EJERCICIO 2"
   ]
  },
  {
   "cell_type": "code",
   "execution_count": 147,
   "metadata": {},
   "outputs": [
    {
     "name": "stdout",
     "output_type": "stream",
     "text": [
      "Cual es la distancia al sol del primer planeta?\n",
      "distancia planeta 1:  108200000 km\n",
      "\n",
      "Cual es la distancia al sol del segundo planeta?\n",
      "distancia planeta 2:149600000 km\n",
      "\n",
      "disttancia en kilometros: 41400000\n",
      "DISTANCIA EN MILLAS:    25709400\n"
     ]
    }
   ],
   "source": [
    "print(\"Cual es la distancia al sol del primer planeta?\")\n",
    "planeta1 = input(\"distancia en km\")\n",
    "print(\"distancia planeta 1:  \" + planeta1 +\" km\")\n",
    "print(\"\\nCual es la distancia al sol del segundo planeta?\")\n",
    "planeta2 = input(\"distancia en km\")\n",
    "print(\"distancia planeta 2:\"+ planeta2 +\" km\")\n",
    "p1= int(planeta1)\n",
    "p2= int(planeta2)\n",
    "r= p1-p2\n",
    "print(\"\\ndisttancia en kilometros: \"+ str(abs(r)))\n",
    "millas = r*0.621\n",
    "print (\"DISTANCIA EN MILLAS:    \" + str(abs(round(millas))) )"
   ]
  },
  {
   "cell_type": "markdown",
   "metadata": {},
   "source": [
    "## INICIO MODULO 6"
   ]
  },
  {
   "cell_type": "code",
   "execution_count": 36,
   "metadata": {},
   "outputs": [
    {
     "name": "stdout",
     "output_type": "stream",
     "text": [
      "lista de planetas ['Mercury', 'Venus', 'Earth', 'Mars', 'Jupiter', 'Saturn', 'Uranus', 'Neptune']\n"
     ]
    }
   ],
   "source": [
    "planets = ['Mercury', 'Venus', 'Earth', 'Mars', 'Jupiter', 'Saturn', 'Uranus', 'Neptune']\n",
    "print('lista de planetas', planets)"
   ]
  },
  {
   "cell_type": "code",
   "execution_count": 37,
   "metadata": {},
   "outputs": [
    {
     "name": "stdout",
     "output_type": "stream",
     "text": [
      "el nuemro de planetas en lista es: 9  el ultimo planeta de la lista es:  Pluton\n"
     ]
    }
   ],
   "source": [
    "planets.append('Pluton')\n",
    "number_of_planets = len(planets)\n",
    "print('el nuemro de planetas en lista es:', number_of_planets, ' el ultimo planeta de la lista es: ',planets[-1])"
   ]
  },
  {
   "cell_type": "markdown",
   "metadata": {},
   "source": [
    "ejercicio 2"
   ]
  },
  {
   "cell_type": "code",
   "execution_count": 42,
   "metadata": {},
   "outputs": [
    {
     "name": "stdout",
     "output_type": "stream",
     "text": [
      "Escribe un nombre de un planeta del sisitema solar en ingles, usa mayucula para la primera letra\n",
      "planetas mas cercanos al sol que: Jupiter son :\n",
      "['Mercury', 'Venus', 'Earth', 'Mars']\n",
      "los planetas mas lejanos al sol que: Jupiter son:\n",
      "['Saturn', 'Neptune']\n"
     ]
    }
   ],
   "source": [
    "planets = ['Mercury', 'Venus', 'Earth', 'Mars', 'Jupiter', 'Saturn', 'Neptune']\n",
    "print('Escribe un nombre de un planeta del sisitema solar en ingles, usa mayucula para la primera letra')\n",
    "planetname = input(\"nombre del planeta\")\n",
    "numerodeplaneta = planets.index(planetname)\n",
    "print('planetas mas cercanos al sol que: ' + planetname + ' son :')\n",
    "print(planets[0:numerodeplaneta])\n",
    "print('los planetas mas lejanos al sol que: ' + planetname + ' son:')\n",
    "print(planets[numerodeplaneta + 1:])"
   ]
  },
  {
   "cell_type": "markdown",
   "metadata": {},
   "source": [
    "## INICIO MODULO 7"
   ]
  },
  {
   "cell_type": "code",
   "execution_count": 2,
   "metadata": {},
   "outputs": [],
   "source": [
    "new_planet = ''\n",
    "planets = []"
   ]
  },
  {
   "cell_type": "code",
   "execution_count": 3,
   "metadata": {},
   "outputs": [],
   "source": [
    "while new_planet.lower() != 'done':\n",
    "    if new_planet:\n",
    "        planets.append(new_planet)\n",
    "    new_planet = input('Enter a new planet ')"
   ]
  },
  {
   "cell_type": "code",
   "execution_count": 7,
   "metadata": {},
   "outputs": [
    {
     "name": "stdout",
     "output_type": "stream",
     "text": [
      "MARTE\n",
      "MERCURIO\n",
      "SATURNO\n",
      "VENUS\n",
      "PLUTON\n"
     ]
    }
   ],
   "source": [
    "for a in planets : # los dos puntos es para toda la lista y cuando detecta el -1 es que para\n",
    "    print(a)"
   ]
  },
  {
   "cell_type": "markdown",
   "metadata": {},
   "source": [
    "## INICIO MODULO 8"
   ]
  },
  {
   "cell_type": "code",
   "execution_count": 23,
   "metadata": {},
   "outputs": [],
   "source": [
    "planet = {\n",
    "    'name'  : 'mars', \n",
    "    'moons' : 2\n",
    "}"
   ]
  },
  {
   "cell_type": "code",
   "execution_count": 24,
   "metadata": {},
   "outputs": [
    {
     "name": "stdout",
     "output_type": "stream",
     "text": [
      "name -> mars\n",
      "moons -> 2\n"
     ]
    }
   ],
   "source": [
    "for a in planet.keys():\n",
    "    print(f'{a} -> {planet[a]}')"
   ]
  },
  {
   "cell_type": "code",
   "execution_count": 25,
   "metadata": {},
   "outputs": [
    {
     "name": "stdout",
     "output_type": "stream",
     "text": [
      "mars\n"
     ]
    }
   ],
   "source": [
    "print(planet.get('name'))"
   ]
  },
  {
   "cell_type": "code",
   "execution_count": 29,
   "metadata": {},
   "outputs": [
    {
     "name": "stdout",
     "output_type": "stream",
     "text": [
      "mars has 2 moons\n"
     ]
    }
   ],
   "source": [
    "print(f'{planet[\"name\"]} has {planet[\"moons\"]} moons')"
   ]
  },
  {
   "cell_type": "code",
   "execution_count": 33,
   "metadata": {},
   "outputs": [
    {
     "name": "stdout",
     "output_type": "stream",
     "text": [
      "mars has a polar circumference of 6752\n"
     ]
    }
   ],
   "source": [
    "planet['circumference (km)']={   ## esto se puede ahcer con update?\n",
    "    'polar': 6752 ,\n",
    "    'equatorial': 6792\n",
    "}\n",
    "\n",
    "print(f'{planet[\"name\"]} has a polar circumference of {planet[\"circumference (km)\"][\"polar\"]}')"
   ]
  },
  {
   "cell_type": "markdown",
   "metadata": {},
   "source": [
    "ejercicio 2"
   ]
  },
  {
   "cell_type": "code",
   "execution_count": 38,
   "metadata": {},
   "outputs": [],
   "source": [
    "planet_moons = {\n",
    "    'mercury': 0,\n",
    "    'venus': 0,\n",
    "    'earth': 1,\n",
    "    'mars': 2,\n",
    "    'jupiter': 79,\n",
    "    'saturn': 82,\n",
    "    'uranus': 27,\n",
    "    'neptune': 14,\n",
    "    'pluto': 5,\n",
    "    'haumea': 2,\n",
    "    'makemake': 1,\n",
    "    'eris': 1\n",
    "}"
   ]
  },
  {
   "cell_type": "code",
   "execution_count": 50,
   "metadata": {},
   "outputs": [
    {
     "name": "stdout",
     "output_type": "stream",
     "text": [
      "dict_values([0, 0, 1, 2, 79, 82, 27, 14, 5, 2, 1, 1])\n",
      "numero de planetas: 12 \n"
     ]
    }
   ],
   "source": [
    "moons = planet_moons.values()\n",
    "planets = len(planet_moons.keys())\n",
    "\n",
    "print(moons)\n",
    "print (f'numero de planetas: {planets} ')"
   ]
  },
  {
   "cell_type": "code",
   "execution_count": 93,
   "metadata": {},
   "outputs": [
    {
     "name": "stdout",
     "output_type": "stream",
     "text": [
      "el numero total de  total de lunas es: 214\n",
      "el promedio de lunas en los planetas es: 17.83\n"
     ]
    }
   ],
   "source": [
    "total_moons = 0\n",
    "for a in moons:\n",
    "     total_moons = total_moons + a\n",
    "\n",
    "\n",
    "promedio =   total_moons/planets\n",
    "print('el numero total de  total de lunas es:', total_moons )\n",
    "print('el promedio de lunas en los planetas es:', round(promedio,2) )"
   ]
  },
  {
   "cell_type": "markdown",
   "metadata": {},
   "source": [
    "## INICIO MODULO 9"
   ]
  }
 ],
 "metadata": {
  "interpreter": {
   "hash": "4e5bdc90a8aedf99642bb7e2499dd1e4b01417a8fafa2e8def6938ccd6b951c8"
  },
  "kernelspec": {
   "display_name": "Python 3.9.2 64-bit",
   "language": "python",
   "name": "python3"
  },
  "language_info": {
   "codemirror_mode": {
    "name": "ipython",
    "version": 3
   },
   "file_extension": ".py",
   "mimetype": "text/x-python",
   "name": "python",
   "nbconvert_exporter": "python",
   "pygments_lexer": "ipython3",
   "version": "3.9.2"
  },
  "orig_nbformat": 4
 },
 "nbformat": 4,
 "nbformat_minor": 2
}
